{
 "cells": [
  {
   "cell_type": "markdown",
   "metadata": {},
   "source": [
    "**Agent Definition**"
   ]
  },
  {
   "cell_type": "code",
   "execution_count": null,
   "metadata": {},
   "outputs": [],
   "source": [
    "import numpy as np\n",
    "from keras.models import Sequential\n",
    "from keras.layers import LSTM, Dense\n",
    "from musicpy import *\n",
    "\n",
    "class MusicComposerAgent:\n",
    "    def __init__(self, state_size, action_size):\n",
    "        self.state_size = state_size  # Length of the chord sequence representing the state\n",
    "        self.action_size = action_size  # Number of possible actions (chords)\n",
    "        self.memory = []  # Memory for storing experiences\n",
    "        self.gamma = 0.95  # Discount rate for future rewards\n",
    "        self.epsilon = 1.0  # Exploration rate\n",
    "        self.epsilon_min = 0.01\n",
    "        self.epsilon_decay = 0.995\n",
    "        self.learning_rate = 0.001\n",
    "        self.lstm_model = self._build_lstm_model()\n",
    "\n",
    "    def _build_lstm_model(self):\n",
    "        \"\"\"Builds an LSTM network to be used by the agent.\"\"\"\n",
    "        model = Sequential()\n",
    "        model.add(LSTM(50, input_shape=(self.state_size, 1), return_sequences=True))\n",
    "        model.add(LSTM(50))\n",
    "        model.add(Dense(self.action_size, activation='softmax'))\n",
    "        model.compile(loss='categorical_crossentropy', optimizer='adam')\n",
    "        return model\n",
    "\n",
    "    def choose_action(self, state):\n",
    "        \"\"\"Chooses the next action (chord) based on the current state.\"\"\"\n",
    "        if np.random.rand() <= self.epsilon:\n",
    "            return np.random.randint(self.action_size)  # Explore: choose a random action\n",
    "        action_probs = self.lstm_model.predict(state)  # Exploit: choose best action based on model\n",
    "        return np.argmax(action_probs[0])\n",
    "\n",
    "    def remember(self, state, action, reward, next_state, done):\n",
    "        \"\"\"Stores an experience in memory.\"\"\"\n",
    "        self.memory.append((state, action, reward, next_state, done))\n",
    "\n",
    "    def replay(self, batch_size):\n",
    "        \"\"\"Trains the agent using a batch of past experiences.\"\"\"\n",
    "        minibatch = np.random.choice(self.memory, batch_size, replace=False)\n",
    "        for state, action, reward, next_state, done in minibatch:\n",
    "            target = reward\n",
    "            if not done:\n",
    "                target = (reward + self.gamma * np.amax(self.lstm_model.predict(next_state)[0]))\n",
    "            target_f = self.lstm_model.predict(state)\n",
    "            target_f[0][action] = target\n",
    "            self.lstm_model.fit(state, target_f, epochs=1, verbose=0)\n",
    "        if self.epsilon > self.epsilon_min:\n",
    "            self.epsilon *= self.epsilon_decay\n",
    "\n",
    "    def calculate_reward(self, state, action):\n",
    "        \"\"\"Calculates reward based on the musical theory and last action.\"\"\"\n",
    "        # Define reward calculations based on musical theory\n",
    "        reward = 0\n",
    "        # Add conditions to calculate reward\n",
    "        return reward\n",
    "\n",
    "    def train(self, batch_size):\n",
    "        \"\"\"Train the agent using experiences in memory.\"\"\"\n",
    "        if len(self.memory) < batch_size:\n",
    "            return\n",
    "        self.replay(batch_size)"
   ]
  },
  {
   "cell_type": "markdown",
   "metadata": {},
   "source": [
    "**Implementation**"
   ]
  },
  {
   "cell_type": "code",
   "execution_count": 5,
   "metadata": {},
   "outputs": [
    {
     "name": "stdout",
     "output_type": "stream",
     "text": [
      "Chord: chord(notes=[A4, C5, E5], interval=[0, 0, 0], start_time=0), Duration: 0.25\n"
     ]
    }
   ],
   "source": [
    "def action_to_chord_duration(action_index):\n",
    "    # Define chords and durations\n",
    "    chords = ['C', 'Dm', 'Em', 'F', 'G', 'Am', 'Bdim', 'Cmaj7', 'Dm7', 'G7']\n",
    "    durations = [0.25, 0.5, 1, 2]  # Representing quarter, half, whole, and double whole notes\n",
    "\n",
    "    num_chords = len(chords)\n",
    "    num_durations = len(durations)\n",
    "\n",
    "    # Calculate the chord index and duration index\n",
    "    chord_index = action_index % num_chords\n",
    "    duration_index = action_index // num_chords\n",
    "\n",
    "    chord_name = chords[chord_index]\n",
    "    duration = durations[duration_index]\n",
    "\n",
    "    return C(chord_name), duration\n",
    "\n",
    "# Example usage\n",
    "action_index = 5  # Suppose the agent chose action index 5\n",
    "chord, duration = action_to_chord_duration(action_index)\n",
    "print(f\"Chord: {chord}, Duration: {duration}\")\n"
   ]
  },
  {
   "cell_type": "code",
   "execution_count": null,
   "metadata": {},
   "outputs": [],
   "source": [
    "# Parameters\n",
    "state_size = 32  # Example: Length of the sequence of chords\n",
    "action_size = 100  # Example: Number of possible chords\n",
    "\n",
    "agent = MusicComposerAgent(state_size, action_size)\n",
    "\n"
   ]
  },
  {
   "cell_type": "markdown",
   "metadata": {},
   "source": [
    "**Example of Musicpy**"
   ]
  },
  {
   "cell_type": "code",
   "execution_count": null,
   "metadata": {},
   "outputs": [],
   "source": [
    "# a nylon string guitar plays broken chords on a chord progression. This will generate a midi file which you can play\n",
    "\n",
    "guitar = (C('CM7', 3, 1/4, 1/8)^2 |\n",
    "          C('G7sus', 2, 1/4, 1/8)^2 |\n",
    "          C('A7sus', 2, 1/4, 1/8)^2 |\n",
    "          C('Em7', 2, 1/4, 1/8)^2 | \n",
    "          C('FM7', 2, 1/4, 1/8)^2 |\n",
    "          C('CM7', 3, 1/4, 1/8)@1 |\n",
    "          C('AbM7', 2, 1/4, 1/8)^2 |\n",
    "          C('G7sus', 2, 1/4, 1/8)^2) * 2\n",
    "\n",
    "play(guitar, bpm=100, instrument=25)"
   ]
  }
 ],
 "metadata": {
  "kernelspec": {
   "display_name": "Python 3",
   "language": "python",
   "name": "python3"
  },
  "language_info": {
   "codemirror_mode": {
    "name": "ipython",
    "version": 3
   },
   "file_extension": ".py",
   "mimetype": "text/x-python",
   "name": "python",
   "nbconvert_exporter": "python",
   "pygments_lexer": "ipython3",
   "version": "3.11.6"
  }
 },
 "nbformat": 4,
 "nbformat_minor": 2
}
